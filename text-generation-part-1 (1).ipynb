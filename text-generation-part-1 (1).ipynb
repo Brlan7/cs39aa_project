{
 "cells": [
  {
   "cell_type": "markdown",
   "id": "4c01f7f3",
   "metadata": {
    "papermill": {
     "duration": 0.004671,
     "end_time": "2022-11-02T03:17:45.950002",
     "exception": false,
     "start_time": "2022-11-02T03:17:45.945331",
     "status": "completed"
    },
    "tags": []
   },
   "source": [
    "## Introduction/Background\n",
    "\n",
    "The goal of this model is to predict the next word based on the last word of a given sentence using text generation. Which means that we will need a text document that contains many different sentences to identify patterns. Books are a really good example but, we can't just pick any book. If we were to pick a book from Shakespeare, our model will only learn how Shakespeare spoke, which wouldn't help our case because it won't translate well to modern English. A better pick here would be _The Adventures of Sherlock Holmes._ It is an old book but has been updated recently to modern English. The data has been modified to remove unnecessary text that is irrelevant to us including contents menu, headings, and information about the author. What is left is what we need but still need to do some cleanup such as removing extra spaces. The model will learn to recognize features and characteristics of basic language and then use that understanding to suggest words to complete sentences. \n"
   ]
  },
  {
   "cell_type": "markdown",
   "id": "796b1c14",
   "metadata": {
    "papermill": {
     "duration": 0.002923,
     "end_time": "2022-11-02T03:17:45.956556",
     "exception": false,
     "start_time": "2022-11-02T03:17:45.953633",
     "status": "completed"
    },
    "tags": []
   },
   "source": [
    "## Exploratory Data Analysis"
   ]
  },
  {
   "cell_type": "code",
   "execution_count": 1,
   "id": "c704cc7f",
   "metadata": {
    "execution": {
     "iopub.execute_input": "2022-11-02T03:17:45.965682Z",
     "iopub.status.busy": "2022-11-02T03:17:45.964750Z",
     "iopub.status.idle": "2022-11-02T03:17:45.976988Z",
     "shell.execute_reply": "2022-11-02T03:17:45.976029Z"
    },
    "papermill": {
     "duration": 0.019579,
     "end_time": "2022-11-02T03:17:45.979295",
     "exception": false,
     "start_time": "2022-11-02T03:17:45.959716",
     "status": "completed"
    },
    "tags": []
   },
   "outputs": [],
   "source": [
    "# import all of the python modules/packages you'll need here\n",
    "import pandas as pd\n",
    "import string\n",
    "import re\n",
    "import matplotlib.pyplot as plt\n",
    "import collections"
   ]
  },
  {
   "cell_type": "markdown",
   "id": "c40c98e9",
   "metadata": {
    "papermill": {
     "duration": 0.003095,
     "end_time": "2022-11-02T03:17:45.985937",
     "exception": false,
     "start_time": "2022-11-02T03:17:45.982842",
     "status": "completed"
    },
    "tags": []
   },
   "source": [
    "Import dataset and do some cleanup by removing extra spaces. \n"
   ]
  },
  {
   "cell_type": "code",
   "execution_count": 2,
   "id": "91a650a1",
   "metadata": {
    "execution": {
     "iopub.execute_input": "2022-11-02T03:17:45.994228Z",
     "iopub.status.busy": "2022-11-02T03:17:45.993588Z",
     "iopub.status.idle": "2022-11-02T03:17:54.285953Z",
     "shell.execute_reply": "2022-11-02T03:17:54.284971Z"
    },
    "papermill": {
     "duration": 8.299294,
     "end_time": "2022-11-02T03:17:54.288470",
     "exception": false,
     "start_time": "2022-11-02T03:17:45.989176",
     "status": "completed"
    },
    "tags": []
   },
   "outputs": [],
   "source": [
    "file = open(\"../input/sherlock-holmes/Sherlock_Holmes.txt\")\n",
    "lines = []\n",
    "words_frequency = dict() \n",
    "\n",
    "for i in file:\n",
    "    lines.append(i)\n",
    "    \n",
    "    # This is to count the frequency of every word in the text file. Later we will analyze it further. \n",
    "    i = i.strip()\n",
    "    i = i.lower()\n",
    "    i = i.translate(i.maketrans(\"\", \"\", string.punctuation))\n",
    "    words = i.split(\" \")\n",
    "    \n",
    "    for word in words:\n",
    "        if word in words_frequency:\n",
    "            words_frequency[word] = words_frequency[word] + 1\n",
    "        else:\n",
    "            words_frequency[word] = 1\n",
    "    \n",
    "data = \"\"\n",
    "\n",
    "for i in lines:\n",
    "    data = ' '. join(lines)\n",
    "    \n",
    "data = data.replace('\\n', '').replace('\\ufeff', '').replace('\"', '')\n",
    "# print(data)"
   ]
  },
  {
   "cell_type": "markdown",
   "id": "7dc591f1",
   "metadata": {
    "papermill": {
     "duration": 0.003178,
     "end_time": "2022-11-02T03:17:54.295233",
     "exception": false,
     "start_time": "2022-11-02T03:17:54.292055",
     "status": "completed"
    },
    "tags": []
   },
   "source": [
    "We want break down this text file into a list made of different sentences. We will then feed these sentences to our training model so that it learns how to \"write\" English. Each sentence is a token. If we use RegEx to split the data on '.', '?', or '!' it splits into 7279 different sentences. The problem is that there's many sentences that contain only one word. This is because the book contains a lot of dialogue that includes one-word questions. One-word sentences will not be helpful for this project because we won't be able to find a pattern if there isn't another word before or after. This is why splitting the data by just a period '.' will become more useful. If we do this we find that there's 6195 sentences. "
   ]
  },
  {
   "cell_type": "code",
   "execution_count": 3,
   "id": "7e992ca8",
   "metadata": {
    "execution": {
     "iopub.execute_input": "2022-11-02T03:17:54.303520Z",
     "iopub.status.busy": "2022-11-02T03:17:54.302864Z",
     "iopub.status.idle": "2022-11-02T03:17:54.310802Z",
     "shell.execute_reply": "2022-11-02T03:17:54.309731Z"
    },
    "papermill": {
     "duration": 0.014908,
     "end_time": "2022-11-02T03:17:54.313366",
     "exception": false,
     "start_time": "2022-11-02T03:17:54.298458",
     "status": "completed"
    },
    "tags": []
   },
   "outputs": [
    {
     "name": "stdout",
     "output_type": "stream",
     "text": [
      "6195\n"
     ]
    }
   ],
   "source": [
    "sentences = data.split(\".\")\n",
    "print(len(sentences))"
   ]
  },
  {
   "cell_type": "markdown",
   "id": "11979d7e",
   "metadata": {
    "papermill": {
     "duration": 0.003125,
     "end_time": "2022-11-02T03:17:54.319870",
     "exception": false,
     "start_time": "2022-11-02T03:17:54.316745",
     "status": "completed"
    },
    "tags": []
   },
   "source": [
    "Another important piece of information that we care for is how big is a sentence. Well now that we have saved all of our observations (sentences) into an array, we can loop through that array, retrieve the length of each element, and then add it to another array called words. Words will hold the length of each sentence. "
   ]
  },
  {
   "cell_type": "code",
   "execution_count": 4,
   "id": "2a6a249d",
   "metadata": {
    "execution": {
     "iopub.execute_input": "2022-11-02T03:17:54.327904Z",
     "iopub.status.busy": "2022-11-02T03:17:54.327556Z",
     "iopub.status.idle": "2022-11-02T03:17:54.342156Z",
     "shell.execute_reply": "2022-11-02T03:17:54.341192Z"
    },
    "papermill": {
     "duration": 0.021019,
     "end_time": "2022-11-02T03:17:54.344294",
     "exception": false,
     "start_time": "2022-11-02T03:17:54.323275",
     "status": "completed"
    },
    "tags": []
   },
   "outputs": [],
   "source": [
    "words_per_sentence = []\n",
    "for sentence in sentences:\n",
    "    words_per_sentence.append(len(sentence.split(\" \")))\n"
   ]
  },
  {
   "cell_type": "markdown",
   "id": "cd079bd4",
   "metadata": {
    "papermill": {
     "duration": 0.003279,
     "end_time": "2022-11-02T03:17:54.351071",
     "exception": false,
     "start_time": "2022-11-02T03:17:54.347792",
     "status": "completed"
    },
    "tags": []
   },
   "source": [
    "To have a better look, a histogram has been created below. It appears that most sentences range from 5-20 words."
   ]
  },
  {
   "cell_type": "code",
   "execution_count": 5,
   "id": "c6dba424",
   "metadata": {
    "execution": {
     "iopub.execute_input": "2022-11-02T03:17:54.359547Z",
     "iopub.status.busy": "2022-11-02T03:17:54.358871Z",
     "iopub.status.idle": "2022-11-02T03:17:54.567583Z",
     "shell.execute_reply": "2022-11-02T03:17:54.566453Z"
    },
    "papermill": {
     "duration": 0.215182,
     "end_time": "2022-11-02T03:17:54.569784",
     "exception": false,
     "start_time": "2022-11-02T03:17:54.354602",
     "status": "completed"
    },
    "tags": []
   },
   "outputs": [
    {
     "data": {
      "image/png": "[encoded data removed]",
      "text/plain": [
       "<Figure size 432x288 with 1 Axes>"
      ]
     },
     "metadata": {
      "needs_background": "light"
     },
     "output_type": "display_data"
    }
   ],
   "source": [
    "plt.hist(words_per_sentence, bins = [5,10,15,20,25,30,35,40,45,50,55,60,65,70,75,80,85,90,95,100])\n",
    "plt.title(\"Words per Sentence\")\n",
    "plt.show()"
   ]
  },
  {
   "cell_type": "markdown",
   "id": "e4536c0a",
   "metadata": {
    "papermill": {
     "duration": 0.003328,
     "end_time": "2022-11-02T03:17:54.576884",
     "exception": false,
     "start_time": "2022-11-02T03:17:54.573556",
     "status": "completed"
    },
    "tags": []
   },
   "source": [
    "Using the dictionary \"words_frequency\" that we created at the beginning, we will sort it and get the 10 most common words in the text. With no surprise, the most common words are all stop words. Below you can see their frequency in the bar graph that was created. "
   ]
  },
  {
   "cell_type": "code",
   "execution_count": 6,
   "id": "57bcff79",
   "metadata": {
    "execution": {
     "iopub.execute_input": "2022-11-02T03:17:54.586042Z",
     "iopub.status.busy": "2022-11-02T03:17:54.584967Z",
     "iopub.status.idle": "2022-11-02T03:17:54.726674Z",
     "shell.execute_reply": "2022-11-02T03:17:54.725297Z"
    },
    "papermill": {
     "duration": 0.152294,
     "end_time": "2022-11-02T03:17:54.732588",
     "exception": false,
     "start_time": "2022-11-02T03:17:54.580294",
     "status": "completed"
    },
    "tags": []
   },
   "outputs": [
    {
     "name": "stdout",
     "output_type": "stream",
     "text": [
      "[('the', 5509), ('and', 2869), ('to', 2652), ('of', 2631), ('', 2608), ('i', 2597), ('a', 2592), ('in', 1727), ('that', 1640), ('it', 1462)]\n"
     ]
    },
    {
     "data": {
      "image/png": "[encoded data removed]",
      "text/plain": [
       "<Figure size 432x288 with 1 Axes>"
      ]
     },
     "metadata": {
      "needs_background": "light"
     },
     "output_type": "display_data"
    }
   ],
   "source": [
    "top_words = sorted(words_frequency.items(), key=lambda item: item[1], reverse=True)[:10]\n",
    "word = []\n",
    "frequency = []\n",
    "print(top_words)\n",
    "for i in top_words:\n",
    "    word.append(i[0])\n",
    "    frequency.append(i[1])\n",
    "        \n",
    "plt.bar(word, frequency)\n",
    "plt.title(\"Most Common Words\")\n",
    "plt.show()\n",
    "    "
   ]
  }
 ],
 "metadata": {
  "kernelspec": {
   "display_name": "Python 3",
   "language": "python",
   "name": "python3"
  },
  "language_info": {
   "codemirror_mode": {
    "name": "ipython",
    "version": 3
   },
   "file_extension": ".py",
   "mimetype": "text/x-python",
   "name": "python",
   "nbconvert_exporter": "python",
   "pygments_lexer": "ipython3",
   "version": "3.7.12"
  },
  "papermill": {
   "default_parameters": {},
   "duration": 17.424527,
   "end_time": "2022-11-02T03:17:55.366902",
   "environment_variables": {},
   "exception": null,
   "input_path": "__notebook__.ipynb",
   "output_path": "__notebook__.ipynb",
   "parameters": {},
   "start_time": "2022-11-02T03:17:37.942375",
   "version": "2.3.4"
  }
 },
 "nbformat": 4,
 "nbformat_minor": 5
}
